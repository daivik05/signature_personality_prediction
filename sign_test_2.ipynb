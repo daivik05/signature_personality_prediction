{
  "cells": [
    {
      "cell_type": "markdown",
      "metadata": {
        "id": "view-in-github",
        "colab_type": "text"
      },
      "source": [
        "<a href=\"https://colab.research.google.com/github/daivik05/signature_personality_prediction/blob/main/sign_test_2.ipynb\" target=\"_parent\"><img src=\"https://colab.research.google.com/assets/colab-badge.svg\" alt=\"Open In Colab\"/></a>"
      ]
    },
    {
      "cell_type": "code",
      "execution_count": 1,
      "metadata": {
        "id": "WCRo9m7MwfQ2"
      },
      "outputs": [],
      "source": [
        "import os\n",
        "import cv2\n",
        "import numpy as np\n",
        "from keras.models import load_model\n",
        "import json\n"
      ]
    },
    {
      "cell_type": "code",
      "execution_count": 2,
      "metadata": {
        "colab": {
          "base_uri": "https://localhost:8080/",
          "height": 108
        },
        "id": "qSw_eh5hwpGF",
        "outputId": "d74d577b-bbf4-4b1d-c655-dee05196303c"
      },
      "outputs": [
        {
          "output_type": "display_data",
          "data": {
            "text/plain": [
              "<IPython.core.display.HTML object>"
            ],
            "text/html": [
              "\n",
              "     <input type=\"file\" id=\"files-b230d86a-5c3d-4b3c-9672-b635fd8e9d43\" name=\"files[]\" multiple disabled\n",
              "        style=\"border:none\" />\n",
              "     <output id=\"result-b230d86a-5c3d-4b3c-9672-b635fd8e9d43\">\n",
              "      Upload widget is only available when the cell has been executed in the\n",
              "      current browser session. Please rerun this cell to enable.\n",
              "      </output>\n",
              "      <script>// Copyright 2017 Google LLC\n",
              "//\n",
              "// Licensed under the Apache License, Version 2.0 (the \"License\");\n",
              "// you may not use this file except in compliance with the License.\n",
              "// You may obtain a copy of the License at\n",
              "//\n",
              "//      http://www.apache.org/licenses/LICENSE-2.0\n",
              "//\n",
              "// Unless required by applicable law or agreed to in writing, software\n",
              "// distributed under the License is distributed on an \"AS IS\" BASIS,\n",
              "// WITHOUT WARRANTIES OR CONDITIONS OF ANY KIND, either express or implied.\n",
              "// See the License for the specific language governing permissions and\n",
              "// limitations under the License.\n",
              "\n",
              "/**\n",
              " * @fileoverview Helpers for google.colab Python module.\n",
              " */\n",
              "(function(scope) {\n",
              "function span(text, styleAttributes = {}) {\n",
              "  const element = document.createElement('span');\n",
              "  element.textContent = text;\n",
              "  for (const key of Object.keys(styleAttributes)) {\n",
              "    element.style[key] = styleAttributes[key];\n",
              "  }\n",
              "  return element;\n",
              "}\n",
              "\n",
              "// Max number of bytes which will be uploaded at a time.\n",
              "const MAX_PAYLOAD_SIZE = 100 * 1024;\n",
              "\n",
              "function _uploadFiles(inputId, outputId) {\n",
              "  const steps = uploadFilesStep(inputId, outputId);\n",
              "  const outputElement = document.getElementById(outputId);\n",
              "  // Cache steps on the outputElement to make it available for the next call\n",
              "  // to uploadFilesContinue from Python.\n",
              "  outputElement.steps = steps;\n",
              "\n",
              "  return _uploadFilesContinue(outputId);\n",
              "}\n",
              "\n",
              "// This is roughly an async generator (not supported in the browser yet),\n",
              "// where there are multiple asynchronous steps and the Python side is going\n",
              "// to poll for completion of each step.\n",
              "// This uses a Promise to block the python side on completion of each step,\n",
              "// then passes the result of the previous step as the input to the next step.\n",
              "function _uploadFilesContinue(outputId) {\n",
              "  const outputElement = document.getElementById(outputId);\n",
              "  const steps = outputElement.steps;\n",
              "\n",
              "  const next = steps.next(outputElement.lastPromiseValue);\n",
              "  return Promise.resolve(next.value.promise).then((value) => {\n",
              "    // Cache the last promise value to make it available to the next\n",
              "    // step of the generator.\n",
              "    outputElement.lastPromiseValue = value;\n",
              "    return next.value.response;\n",
              "  });\n",
              "}\n",
              "\n",
              "/**\n",
              " * Generator function which is called between each async step of the upload\n",
              " * process.\n",
              " * @param {string} inputId Element ID of the input file picker element.\n",
              " * @param {string} outputId Element ID of the output display.\n",
              " * @return {!Iterable<!Object>} Iterable of next steps.\n",
              " */\n",
              "function* uploadFilesStep(inputId, outputId) {\n",
              "  const inputElement = document.getElementById(inputId);\n",
              "  inputElement.disabled = false;\n",
              "\n",
              "  const outputElement = document.getElementById(outputId);\n",
              "  outputElement.innerHTML = '';\n",
              "\n",
              "  const pickedPromise = new Promise((resolve) => {\n",
              "    inputElement.addEventListener('change', (e) => {\n",
              "      resolve(e.target.files);\n",
              "    });\n",
              "  });\n",
              "\n",
              "  const cancel = document.createElement('button');\n",
              "  inputElement.parentElement.appendChild(cancel);\n",
              "  cancel.textContent = 'Cancel upload';\n",
              "  const cancelPromise = new Promise((resolve) => {\n",
              "    cancel.onclick = () => {\n",
              "      resolve(null);\n",
              "    };\n",
              "  });\n",
              "\n",
              "  // Wait for the user to pick the files.\n",
              "  const files = yield {\n",
              "    promise: Promise.race([pickedPromise, cancelPromise]),\n",
              "    response: {\n",
              "      action: 'starting',\n",
              "    }\n",
              "  };\n",
              "\n",
              "  cancel.remove();\n",
              "\n",
              "  // Disable the input element since further picks are not allowed.\n",
              "  inputElement.disabled = true;\n",
              "\n",
              "  if (!files) {\n",
              "    return {\n",
              "      response: {\n",
              "        action: 'complete',\n",
              "      }\n",
              "    };\n",
              "  }\n",
              "\n",
              "  for (const file of files) {\n",
              "    const li = document.createElement('li');\n",
              "    li.append(span(file.name, {fontWeight: 'bold'}));\n",
              "    li.append(span(\n",
              "        `(${file.type || 'n/a'}) - ${file.size} bytes, ` +\n",
              "        `last modified: ${\n",
              "            file.lastModifiedDate ? file.lastModifiedDate.toLocaleDateString() :\n",
              "                                    'n/a'} - `));\n",
              "    const percent = span('0% done');\n",
              "    li.appendChild(percent);\n",
              "\n",
              "    outputElement.appendChild(li);\n",
              "\n",
              "    const fileDataPromise = new Promise((resolve) => {\n",
              "      const reader = new FileReader();\n",
              "      reader.onload = (e) => {\n",
              "        resolve(e.target.result);\n",
              "      };\n",
              "      reader.readAsArrayBuffer(file);\n",
              "    });\n",
              "    // Wait for the data to be ready.\n",
              "    let fileData = yield {\n",
              "      promise: fileDataPromise,\n",
              "      response: {\n",
              "        action: 'continue',\n",
              "      }\n",
              "    };\n",
              "\n",
              "    // Use a chunked sending to avoid message size limits. See b/62115660.\n",
              "    let position = 0;\n",
              "    do {\n",
              "      const length = Math.min(fileData.byteLength - position, MAX_PAYLOAD_SIZE);\n",
              "      const chunk = new Uint8Array(fileData, position, length);\n",
              "      position += length;\n",
              "\n",
              "      const base64 = btoa(String.fromCharCode.apply(null, chunk));\n",
              "      yield {\n",
              "        response: {\n",
              "          action: 'append',\n",
              "          file: file.name,\n",
              "          data: base64,\n",
              "        },\n",
              "      };\n",
              "\n",
              "      let percentDone = fileData.byteLength === 0 ?\n",
              "          100 :\n",
              "          Math.round((position / fileData.byteLength) * 100);\n",
              "      percent.textContent = `${percentDone}% done`;\n",
              "\n",
              "    } while (position < fileData.byteLength);\n",
              "  }\n",
              "\n",
              "  // All done.\n",
              "  yield {\n",
              "    response: {\n",
              "      action: 'complete',\n",
              "    }\n",
              "  };\n",
              "}\n",
              "\n",
              "scope.google = scope.google || {};\n",
              "scope.google.colab = scope.google.colab || {};\n",
              "scope.google.colab._files = {\n",
              "  _uploadFiles,\n",
              "  _uploadFilesContinue,\n",
              "};\n",
              "})(self);\n",
              "</script> "
            ]
          },
          "metadata": {}
        },
        {
          "output_type": "stream",
          "name": "stdout",
          "text": [
            "Saving class_indices.json to class_indices.json\n",
            "Saving signature personality prediction3.h5 to signature personality prediction3.h5\n"
          ]
        }
      ],
      "source": [
        "from google.colab import files\n",
        "\n",
        "# Upload the model file and class indices file\n",
        "uploaded = files.upload()\n"
      ]
    },
    {
      "cell_type": "code",
      "execution_count": 3,
      "metadata": {
        "colab": {
          "base_uri": "https://localhost:8080/"
        },
        "id": "-dIV_SgOw2SC",
        "outputId": "8764ee96-ba21-4fa3-88cb-85698ce409f3"
      },
      "outputs": [
        {
          "output_type": "stream",
          "name": "stdout",
          "text": [
            "Files uploaded:\n",
            "['.config', 'signature personality prediction3.h5', 'class_indices.json', 'sample_data']\n"
          ]
        }
      ],
      "source": [
        "print(\"Files uploaded:\")\n",
        "print(os.listdir())\n"
      ]
    },
    {
      "cell_type": "code",
      "execution_count": 4,
      "metadata": {
        "id": "Jp8sUbesw5Qq"
      },
      "outputs": [],
      "source": [
        "# Load the saved model\n",
        "model = load_model('signature personality prediction3.h5')\n",
        "\n",
        "# Load the class indices\n",
        "with open('class_indices.json', 'r') as f:\n",
        "    class_indices = json.load(f)\n",
        "class_labels = {v: k for k, v in class_indices.items()}\n"
      ]
    },
    {
      "cell_type": "code",
      "execution_count": 5,
      "metadata": {
        "colab": {
          "base_uri": "https://localhost:8080/"
        },
        "id": "-7TgLZf8xBhD",
        "outputId": "25d0ee0c-a3ae-4764-970b-6cda98527076"
      },
      "outputs": [
        {
          "output_type": "stream",
          "name": "stdout",
          "text": [
            "Cloning into 'signature_personality_prediction'...\n",
            "remote: Enumerating objects: 2307, done.\u001b[K\n",
            "remote: Counting objects: 100% (521/521), done.\u001b[K\n",
            "remote: Compressing objects: 100% (514/514), done.\u001b[K\n",
            "remote: Total 2307 (delta 9), reused 513 (delta 4), pack-reused 1786\u001b[K\n",
            "Receiving objects: 100% (2307/2307), 330.07 MiB | 40.03 MiB/s, done.\n",
            "Resolving deltas: 100% (10/10), done.\n",
            "Updating files: 100% (4307/4307), done.\n"
          ]
        }
      ],
      "source": [
        "repo_name = 'signature_personality_prediction'\n",
        "repo_url = f'https://github.com/daivik05/signature_personality_prediction.git'\n",
        "!git clone $repo_url"
      ]
    },
    {
      "cell_type": "code",
      "execution_count": 18,
      "metadata": {
        "colab": {
          "base_uri": "https://localhost:8080/"
        },
        "id": "pfZ-uncR0FVq",
        "outputId": "f08f2346-b085-44c4-d62c-71fbdd61210b"
      },
      "outputs": [
        {
          "output_type": "stream",
          "name": "stdout",
          "text": [
            "Requirement already satisfied: flask in /usr/local/lib/python3.10/dist-packages (2.2.5)\n",
            "Requirement already satisfied: flask-ngrok in /usr/local/lib/python3.10/dist-packages (0.0.25)\n",
            "Requirement already satisfied: Werkzeug>=2.2.2 in /usr/local/lib/python3.10/dist-packages (from flask) (3.0.3)\n",
            "Requirement already satisfied: Jinja2>=3.0 in /usr/local/lib/python3.10/dist-packages (from flask) (3.1.4)\n",
            "Requirement already satisfied: itsdangerous>=2.0 in /usr/local/lib/python3.10/dist-packages (from flask) (2.2.0)\n",
            "Requirement already satisfied: click>=8.0 in /usr/local/lib/python3.10/dist-packages (from flask) (8.1.7)\n",
            "Requirement already satisfied: requests in /usr/local/lib/python3.10/dist-packages (from flask-ngrok) (2.31.0)\n",
            "Requirement already satisfied: MarkupSafe>=2.0 in /usr/local/lib/python3.10/dist-packages (from Jinja2>=3.0->flask) (2.1.5)\n",
            "Requirement already satisfied: charset-normalizer<4,>=2 in /usr/local/lib/python3.10/dist-packages (from requests->flask-ngrok) (3.3.2)\n",
            "Requirement already satisfied: idna<4,>=2.5 in /usr/local/lib/python3.10/dist-packages (from requests->flask-ngrok) (3.7)\n",
            "Requirement already satisfied: urllib3<3,>=1.21.1 in /usr/local/lib/python3.10/dist-packages (from requests->flask-ngrok) (2.0.7)\n",
            "Requirement already satisfied: certifi>=2017.4.17 in /usr/local/lib/python3.10/dist-packages (from requests->flask-ngrok) (2024.6.2)\n",
            "Requirement already satisfied: pyngrok in /usr/local/lib/python3.10/dist-packages (7.1.6)\n",
            "Requirement already satisfied: PyYAML>=5.1 in /usr/local/lib/python3.10/dist-packages (from pyngrok) (6.0.1)\n"
          ]
        }
      ],
      "source": [
        "!pip install flask flask-ngrok\n",
        "!pip install pyngrok\n"
      ]
    },
    {
      "cell_type": "code",
      "execution_count": 19,
      "metadata": {
        "colab": {
          "base_uri": "https://localhost:8080/"
        },
        "id": "AwxcEZQKAPQg",
        "outputId": "e6146df5-b5c6-4062-b082-68f9418a60ce"
      },
      "outputs": [
        {
          "output_type": "stream",
          "name": "stdout",
          "text": []
        }
      ],
      "source": [
        "from pyngrok import ngrok\n",
        "\n",
        "ngrok.set_auth_token('2j0vyEGckvMBGp1AQ6uhDpHp90D_2wDscsJ7TUU6f3v7RvC4o')\n"
      ]
    },
    {
      "cell_type": "code",
      "execution_count": null,
      "metadata": {
        "colab": {
          "base_uri": "https://localhost:8080/"
        },
        "id": "aE2YULHqBlv0",
        "outputId": "800a7bf8-ef51-4ad3-c242-ae3bc38b7cbe"
      },
      "outputs": [
        {
          "metadata": {
            "tags": null
          },
          "name": "stdout",
          "output_type": "stream",
          "text": [
            " * ngrok tunnel URL: https://6397-35-193-104-9.ngrok-free.app\n",
            " * Serving Flask app '__main__'\n",
            " * Debug mode: off\n"
          ]
        },
        {
          "metadata": {
            "tags": null
          },
          "name": "stderr",
          "output_type": "stream",
          "text": [
            "INFO:werkzeug:\u001b[31m\u001b[1mWARNING: This is a development server. Do not use it in a production deployment. Use a production WSGI server instead.\u001b[0m\n",
            " * Running on http://127.0.0.1:5000\n",
            "INFO:werkzeug:\u001b[33mPress CTRL+C to quit\u001b[0m\n"
          ]
        },
        {
          "metadata": {
            "tags": null
          },
          "name": "stdout",
          "output_type": "stream",
          "text": [
            "1/1 [==============================] - 1s 1s/step\n"
          ]
        },
        {
          "metadata": {
            "tags": null
          },
          "name": "stderr",
          "output_type": "stream",
          "text": [
            "INFO:werkzeug:127.0.0.1 - - [10/Jul/2024 15:31:06] \"POST /upload HTTP/1.1\" 200 -\n"
          ]
        }
      ],
      "source": [
        "from flask import Flask, request, jsonify\n",
        "from pyngrok import ngrok\n",
        "import cv2\n",
        "import numpy as np\n",
        "from keras.models import load_model\n",
        "import json\n",
        "\n",
        "app = Flask(__name__)\n",
        "\n",
        "def preprocess_image(image_path):\n",
        "    img = cv2.imread(image_path)\n",
        "    if img is None:\n",
        "        raise ValueError(f\"Image not loaded properly. Please check the file path: {image_path}\")\n",
        "    img = cv2.resize(img, (224, 224))\n",
        "    img = img.astype('float32') / 255.0\n",
        "    img = np.expand_dims(img, axis=0)\n",
        "    return img\n",
        "\n",
        "def detect_features(signature_image):\n",
        "    if signature_image is None:\n",
        "        raise ValueError(\"Image not loaded properly. Please check the file path.\")\n",
        "\n",
        "    gray = cv2.cvtColor(signature_image, cv2.COLOR_BGR2GRAY)\n",
        "    blurred = cv2.GaussianBlur(gray, (5, 5), 0)\n",
        "    edges = cv2.Canny(blurred, 50, 150)\n",
        "\n",
        "    features = {\n",
        "        \"curved_start\": False,\n",
        "        \"curved_sharply_end\": False,\n",
        "        \"curved_smoothly_end\": False,\n",
        "        \"end_streak_increases\": False,\n",
        "        \"end_streak_decreases\": False,\n",
        "        \"underline\": False\n",
        "    }\n",
        "\n",
        "    contours, _ = cv2.findContours(edges.copy(), cv2.RETR_EXTERNAL, cv2.CHAIN_APPROX_SIMPLE)\n",
        "    if len(contours) == 0:\n",
        "        return features\n",
        "\n",
        "    largest_contour = max(contours, key=cv2.contourArea)\n",
        "    contour_length = len(largest_contour)\n",
        "\n",
        "    start_point = largest_contour[0][0]\n",
        "    end_point = largest_contour[-1][0]\n",
        "\n",
        "    if start_point[1] < start_point[0]:\n",
        "        features[\"curved_start\"] = True\n",
        "\n",
        "    if end_point[1] < start_point[1]:\n",
        "        features[\"end_streak_increases\"] = True\n",
        "    else:\n",
        "        features[\"end_streak_decreases\"] = True\n",
        "\n",
        "    underline_threshold = signature_image.shape[0] - 10\n",
        "    for point in largest_contour:\n",
        "        if point[0][1] > underline_threshold:\n",
        "            features[\"underline\"] = True\n",
        "            break\n",
        "\n",
        "    delta_x = abs(end_point[0] - start_point[0])\n",
        "    delta_y = abs(end_point[1] - start_point[1])\n",
        "    if delta_x > delta_y:\n",
        "        features[\"curved_smoothly_end\"] = True\n",
        "    else:\n",
        "        features[\"curved_sharply_end\"] = True\n",
        "\n",
        "    return features\n",
        "\n",
        "def classify_personality(features):\n",
        "    personality_traits = []\n",
        "    if features[\"curved_start\"] and features[\"curved_sharply_end\"]:\n",
        "        personality_traits.append(\"Formulates a sharp mind\")\n",
        "    if features[\"curved_start\"] and features[\"curved_smoothly_end\"]:\n",
        "        personality_traits.append(\"Friendly and diplomatic\")\n",
        "    if features[\"end_streak_increases\"]:\n",
        "        personality_traits.append(\"Confident\")\n",
        "    if features[\"end_streak_decreases\"]:\n",
        "        personality_traits.append(\"Lacks spirit, realistic thinking, and confidence\")\n",
        "    if features[\"underline\"]:\n",
        "        personality_traits.append(\"Unique idea and thinking, needs support to make decisions, and has reliability in the lead\")\n",
        "\n",
        "    if not personality_traits:\n",
        "        return \"Personality traits not detected\"\n",
        "\n",
        "    return \", \".join(personality_traits)\n",
        "\n",
        "model = load_model('signature personality prediction3.h5')\n",
        "with open('class_indices.json', 'r') as f:\n",
        "    class_indices = json.load(f)\n",
        "class_labels = {v: k for k, v in class_indices.items()}\n",
        "\n",
        "@app.route('/upload', methods=['POST'])\n",
        "def upload_image():\n",
        "    file = request.files['file']\n",
        "    file.save('uploaded_image.png')\n",
        "    test_image_path = 'uploaded_image.png'\n",
        "\n",
        "    test_image = preprocess_image(test_image_path)\n",
        "\n",
        "    if test_image is None:\n",
        "        return jsonify({\"error\": \"Image not loaded properly. Please check the file path.\"})\n",
        "\n",
        "    prediction = model.predict(test_image)\n",
        "    predicted_class_index = np.argmax(prediction)\n",
        "    predicted_class_label = class_labels[predicted_class_index]\n",
        "\n",
        "    if \"forg\" not in predicted_class_label:\n",
        "        signature_image = cv2.imread(test_image_path)\n",
        "        features = detect_features(signature_image)\n",
        "        personality = classify_personality(features)\n",
        "        return jsonify({\"result\": \"genuine\", \"personality\": personality})\n",
        "    else:\n",
        "        return jsonify({\"result\": \"forged\"})\n",
        "\n",
        "if __name__ == '__main__':\n",
        "    from pyngrok import ngrok\n",
        "\n",
        "\n",
        "    ngrok.set_auth_token(\"2j0vyEGckvMBGp1AQ6uhDpHp90D_2wDscsJ7TUU6f3v7RvC4o\")\n",
        "\n",
        "\n",
        "    public_url = ngrok.connect(5000)\n",
        "    print(\" * ngrok tunnel URL:\", public_url.public_url)\n",
        "\n",
        "    app.run()\n"
      ]
    }
  ],
  "metadata": {
    "colab": {
      "provenance": [],
      "authorship_tag": "ABX9TyOvx2koC5MAcNXJvrqiWuVE",
      "include_colab_link": true
    },
    "kernelspec": {
      "display_name": "Python 3",
      "name": "python3"
    },
    "language_info": {
      "name": "python"
    }
  },
  "nbformat": 4,
  "nbformat_minor": 0
}